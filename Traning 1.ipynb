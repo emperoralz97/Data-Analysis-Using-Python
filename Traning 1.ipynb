{
 "cells": [
  {
   "cell_type": "markdown",
   "metadata": {},
   "source": [
    "## 1/1/2019"
   ]
  },
  {
   "cell_type": "code",
   "execution_count": 14,
   "metadata": {},
   "outputs": [
    {
     "name": "stdout",
     "output_type": "stream",
     "text": [
      "Enter: 6\n",
      "      *\n",
      "     ***\n",
      "    *****\n",
      "   *******\n",
      "  *********\n",
      " ***********\n",
      "Finished\n"
     ]
    }
   ],
   "source": [
    "num = int(input(\"Enter: \"))\n",
    "i=1\n",
    "while(i<=num):\n",
    "    print(\" \"*(num-i),\"*\"*(2*i-1))\n",
    "    i += 1\n",
    "print(\"Finished\")"
   ]
  },
  {
   "cell_type": "code",
   "execution_count": 9,
   "metadata": {},
   "outputs": [
    {
     "name": "stdout",
     "output_type": "stream",
     "text": [
      "india \n",
      "india india \n",
      "india india india \n",
      "india india india india \n",
      "india india india india india \n",
      "End of program...\n"
     ]
    }
   ],
   "source": [
    "i=1\n",
    "while(i<=5):\n",
    "    #print(\"Executing for i={}\".format(i),\"\\nIndia\")\n",
    "    print(\"india \"*i)\n",
    "    i+=1\n",
    "print(\"End of program...\")"
   ]
  },
  {
   "cell_type": "code",
   "execution_count": 8,
   "metadata": {
    "scrolled": true
   },
   "outputs": [
    {
     "name": "stdout",
     "output_type": "stream",
     "text": [
      "Enter odd: 11\n",
      " ***********\n",
      ". *********\n",
      ".. *******\n",
      "... *****\n",
      ".... ***\n",
      "..... *\n",
      ".... ***\n",
      "... *****\n",
      ".. *******\n",
      ". *********\n",
      " ***********\n"
     ]
    }
   ],
   "source": [
    "n = int(input(\"Enter odd: \"))\n",
    "while(n%2==0):\n",
    "    n = int(input(\"Enter odd: \"))\n",
    "i = 1\n",
    "m=(n+1)//2\n",
    "while(i<=n):\n",
    "    if(i>m):\n",
    "        b=n-i\n",
    "        s=2*(i-m)+1\n",
    "    else:    \n",
    "        b=i-1\n",
    "        s=2*(m-i)+1\n",
    "    i+=1\n",
    "    print(\".\"*b,\"*\"*s)"
   ]
  },
  {
   "cell_type": "code",
   "execution_count": 7,
   "metadata": {},
   "outputs": [
    {
     "name": "stdout",
     "output_type": "stream",
     "text": [
      "i= 0\n",
      "i= 1\n",
      "i= 2\n",
      "i= 3\n",
      "i= 4\n"
     ]
    }
   ],
   "source": [
    "or i in range(0,5):\n",
    "    print('i=',i)"
   ]
  },
  {
   "cell_type": "code",
   "execution_count": null,
   "metadata": {},
   "outputs": [],
   "source": [
    "n = int(input(\"Enter odd: \"))\n",
    "while(n%2==0):\n",
    "    n = int(input(\"Enter odd: \"))\n",
    "m=(n+1)//2\n",
    "for i in range(1,n+1):\n",
    "    if(i>m):\n",
    "        b=n-i\n",
    "        s=2*(i-m)+1\n",
    "    else:\n",
    "        b=i-1\n",
    "        s=2*(m-i)+1\n",
    "    print(\".\"*b,\"*\"*s)\n",
    "print(2340/9)"
   ]
  },
  {
   "cell_type": "markdown",
   "metadata": {},
   "source": [
    "**digital root: 2+3+5=10=1"
   ]
  },
  {
   "cell_type": "code",
   "execution_count": null,
   "metadata": {},
   "outputs": [],
   "source": [
    "n = int(input(\"Enter: \"))\n",
    "#while(n>9):\n",
    "#s=0\n",
    "#while(n>0):\n",
    " #   s += n%10\n",
    " #   n = n//10\n",
    "#n=s\n",
    "if(n%9==0):\n",
    "    n=9\n",
    "else:\n",
    "    n=n%9\n",
    "print(n)"
   ]
  },
  {
   "cell_type": "markdown",
   "metadata": {},
   "source": [
    "sum=1+2+3+4+10+5+6+7+26+8+9..n terms"
   ]
  },
  {
   "cell_type": "code",
   "execution_count": 5,
   "metadata": {},
   "outputs": [
    {
     "name": "stdout",
     "output_type": "stream",
     "text": [
      "Enter: 10\n",
      "72\n"
     ]
    }
   ],
   "source": [
    "s,sum,k=0,0,1\n",
    "n=int(input(\"Enter: \"))\n",
    "for i in range(1,n+1):\n",
    "    if (i%5!=0):\n",
    "        s+=k\n",
    "        sum+=k\n",
    "        k+=1\n",
    "    else: \n",
    "        sum+=s\n",
    "        s=0\n",
    "print(sum)"
   ]
  },
  {
   "cell_type": "code",
   "execution_count": 29,
   "metadata": {},
   "outputs": [
    {
     "name": "stdout",
     "output_type": "stream",
     "text": [
      "eca\n",
      "ed\n"
     ]
    }
   ],
   "source": [
    "s='abcde'\n",
    "print(s[::-2])\n",
    "#print(s[-3:-1])\n",
    "print(s[-1:-3:-1]) #-1=reverse"
   ]
  },
  {
   "cell_type": "code",
   "execution_count": 32,
   "metadata": {},
   "outputs": [
    {
     "name": "stdout",
     "output_type": "stream",
     "text": [
      "5\n",
      "4\n",
      "3.0\n",
      "20.085536923187668\n",
      "0.6931471805599453\n",
      "8.0\n",
      "0.0\n",
      "1.0\n",
      "1.6197751905438615\n",
      "4.5\n"
     ]
    }
   ],
   "source": [
    "import math\n",
    "a=4.6\n",
    "print(math.ceil(a))\n",
    "print(math.floor(a))\n",
    "b=9\n",
    "print(math.sqrt(b))\n",
    "print(math.exp(3.0))\n",
    "print(math.log(2.0))\n",
    "print(math.pow(2.0,3.0))\n",
    "print(math.sin(0))\n",
    "print(math.cos(0))\n",
    "print(math.tan(45))\n",
    "print(abs(-4.5))"
   ]
  },
  {
   "cell_type": "code",
   "execution_count": 33,
   "metadata": {},
   "outputs": [
    {
     "name": "stdout",
     "output_type": "stream",
     "text": [
      "4.0\n"
     ]
    }
   ],
   "source": [
    "ms=math.sqrt\n",
    "print(ms(16))"
   ]
  },
  {
   "cell_type": "code",
   "execution_count": 61,
   "metadata": {},
   "outputs": [
    {
     "name": "stdout",
     "output_type": "stream",
     "text": [
      "Abcde\n",
      "ABcDE\n",
      "abcde\n",
      "ABCDE \n",
      "\n",
      "False\n",
      "True\n",
      "True\n",
      "True\n",
      "False\n",
      "False\n",
      "0\n",
      "True\n",
      "True\n"
     ]
    }
   ],
   "source": [
    "s='abCde'\n",
    "print(s.capitalize())\n",
    "print(s.swapcase())\n",
    "print(s.lower())\n",
    "print(s.upper(),'\\n')\n",
    "sa='12'\n",
    "print(sa.isalpha())\n",
    "print(sa.isalnum())\n",
    "print(sa.isdigit())\n",
    "print(sa.isnumeric())\n",
    "print(sa.isupper())\n",
    "print(sa.islower())\n",
    "print(sa.find('1'))\n",
    "#print(s.index('1'))   #exception generated when not found\n",
    "print(sa.startswith('1'))\n",
    "print(sa.startswith('1',0,1))"
   ]
  },
  {
   "cell_type": "code",
   "execution_count": 63,
   "metadata": {},
   "outputs": [
    {
     "name": "stdout",
     "output_type": "stream",
     "text": [
      "True\n",
      "False\n"
     ]
    }
   ],
   "source": [
    "my_str=\"university\"\n",
    "print(my_str.endswith(\"sity\"))\n",
    "print(my_str.endswith(\"ver\"))"
   ]
  },
  {
   "cell_type": "code",
   "execution_count": 65,
   "metadata": {},
   "outputs": [
    {
     "name": "stdout",
     "output_type": "stream",
     "text": [
      "    calcutta    15\n",
      "    calcutta    calcutta    11\n",
      "    calcutta        calcutta 12\n",
      "    calcutta    calcutta 8\n"
     ]
    }
   ],
   "source": [
    "my_str=\"    calcutta   \"\n",
    "print(my_str,len(my_str))\n",
    "print(my_str,my_str.lstrip(),len(my_str.lstrip()))\n",
    "print(my_str,my_str.rstrip(),len(my_str.rstrip()))\n",
    "print(my_str,my_str.strip(),len(my_str.strip()))"
   ]
  },
  {
   "cell_type": "code",
   "execution_count": 66,
   "metadata": {},
   "outputs": [
    {
     "name": "stdout",
     "output_type": "stream",
     "text": [
      "@@@@calcutta%%% 15\n",
      "@@@@calcutta%%% calcutta%%% 11\n",
      "@@@@calcutta%%% @@@@calcutta 12\n",
      "@@@@calcutta%%% calcutta 8\n"
     ]
    }
   ],
   "source": [
    "my_str=\"@@@@calcutta%%%\"\n",
    "print(my_str,len(my_str))\n",
    "print(my_str,my_str.lstrip(\"@\"),len(my_str.lstrip('@')))\n",
    "print(my_str,my_str.rstrip('%'),len(my_str.rstrip('%')))\n",
    "print(my_str,my_str.strip('@%'),len(my_str.strip('@%')))"
   ]
  },
  {
   "cell_type": "code",
   "execution_count": 67,
   "metadata": {},
   "outputs": [
    {
     "name": "stdout",
     "output_type": "stream",
     "text": [
      "True\n",
      "False\n"
     ]
    }
   ],
   "source": [
    "my_str=\" \"\n",
    "print(my_str.isspace())\n",
    "my_str=\" abc \"\n",
    "print(my_str.isspace())"
   ]
  },
  {
   "cell_type": "code",
   "execution_count": 70,
   "metadata": {},
   "outputs": [
    {
     "name": "stdout",
     "output_type": "stream",
     "text": [
      "Happy New Year 2018\n",
      "Happy New Year 2019\n"
     ]
    }
   ],
   "source": [
    "my_str=\"Happy New Year 2018\"\n",
    "print(my_str)\n",
    "print(my_str.replace('2018','2019'))"
   ]
  },
  {
   "cell_type": "code",
   "execution_count": 71,
   "metadata": {},
   "outputs": [
    {
     "name": "stdout",
     "output_type": "stream",
     "text": [
      "Wishing\n",
      "your\n",
      "Happy\n",
      "New\n",
      "Year\n"
     ]
    }
   ],
   "source": [
    "my_str=\"Wishing your Happy New Year\"\n",
    "my_list=my_str.split(\" \")\n",
    "for word in my_list:\n",
    "    print(word)"
   ]
  },
  {
   "cell_type": "code",
   "execution_count": 86,
   "metadata": {},
   "outputs": [
    {
     "name": "stdout",
     "output_type": "stream",
     "text": [
      "enter:111\n",
      "7\n"
     ]
    }
   ],
   "source": [
    "n,s,k=input('enter:'),0,0\n",
    "for i in range(1,len(n)+1):\n",
    "    if n[-i]=='1':\n",
    "        s+=(2**k)\n",
    "    k+=1\n",
    "print(s)"
   ]
  },
  {
   "cell_type": "markdown",
   "metadata": {},
   "source": [
    "## 2/1/2019"
   ]
  },
  {
   "cell_type": "markdown",
   "metadata": {},
   "source": [
    "FUNCTIONS"
   ]
  },
  {
   "cell_type": "code",
   "execution_count": 1,
   "metadata": {},
   "outputs": [
    {
     "name": "stdout",
     "output_type": "stream",
     "text": [
      "Enter the first number->35338504399454\n",
      "Enter the second number->9163950907\n",
      "Performing the addition operation..\n",
      "Sum is 35347668350361\n"
     ]
    }
   ],
   "source": [
    "#dealing with Python Functions\n",
    "def my_addition(num1,num2):\n",
    "    result = num1+num2\n",
    "    print(\"Performing the addition operation..\")\n",
    "    return(result)\n",
    "data1 = int(input(\"Enter the first number->\"))\n",
    "data2 = int(input(\"Enter the second number->\"))\n",
    "print(\"Sum is\",my_addition(data1,data2))"
   ]
  },
  {
   "cell_type": "code",
   "execution_count": 5,
   "metadata": {},
   "outputs": [
    {
     "name": "stdout",
     "output_type": "stream",
     "text": [
      "Performing four major calculations....\n",
      "(9, 1, 20, 1.25)\n",
      "Performing four major calculations....\n",
      "Outputs are-> 140 60 4000 2.5\n"
     ]
    }
   ],
   "source": [
    "#Returning Multiple values\n",
    "def my_calculation(data1,data2):\n",
    "    print(\"Performing four major calculations....\")\n",
    "    total = data1+data2\n",
    "    dif=data1-data2\n",
    "    prod=data1*data2\n",
    "    quot = data1/data2\n",
    "    return  total, dif, prod, quot\n",
    "    #return data1+data2,data1-data2,data1*data2,data1/data2\n",
    "print(my_calculation(5,4))\n",
    "t,d,p,q=my_calculation(100,40)\n",
    "print(\"Outputs are->\",t,d,p,q)"
   ]
  },
  {
   "cell_type": "markdown",
   "metadata": {},
   "source": [
    "Default Arguments"
   ]
  },
  {
   "cell_type": "code",
   "execution_count": 12,
   "metadata": {},
   "outputs": [
    {
     "name": "stdout",
     "output_type": "stream",
     "text": [
      "100 200 300\n",
      "100 200 300\n",
      "100 200 300\n",
      "3 2 1\n"
     ]
    }
   ],
   "source": [
    "def f(a,b=200,c=300):\n",
    "    print(a,b,c)\n",
    "f(100,200,300)\n",
    "f(100,200)\n",
    "f(100)\n",
    "f(c=1,b=2,a=3)"
   ]
  },
  {
   "cell_type": "code",
   "execution_count": 13,
   "metadata": {},
   "outputs": [
    {
     "name": "stdout",
     "output_type": "stream",
     "text": [
      "100\n",
      "200\n",
      "....\n",
      "100\n"
     ]
    }
   ],
   "source": [
    "def f(a,b=None):\n",
    "    print(a)\n",
    "    if b is not None:\n",
    "        print(b)\n",
    "f(100,200)\n",
    "print('....')\n",
    "f(100)"
   ]
  },
  {
   "cell_type": "code",
   "execution_count": 35,
   "metadata": {},
   "outputs": [
    {
     "name": "stdout",
     "output_type": "stream",
     "text": [
      "120\n"
     ]
    }
   ],
   "source": [
    "def fnr(num):\n",
    "    fact = num\n",
    "    i=2\n",
    "    while i<num:\n",
    "        fact *= i\n",
    "        i+=1\n",
    "    return fact\n",
    "print (fact_cal_nr(5))"
   ]
  },
  {
   "cell_type": "code",
   "execution_count": 32,
   "metadata": {},
   "outputs": [
    {
     "name": "stdout",
     "output_type": "stream",
     "text": [
      "1\n"
     ]
    }
   ],
   "source": [
    "def fr(num):\n",
    "    if num==1 or num==0:\n",
    "        return 1\n",
    "    return num*fr(num-1)\n",
    "print(fr(1))"
   ]
  },
  {
   "cell_type": "code",
   "execution_count": 36,
   "metadata": {},
   "outputs": [
    {
     "name": "stdout",
     "output_type": "stream",
     "text": [
      "non recursion..\n",
      "120\n",
      "recursion..\n",
      "120\n",
      "None\n"
     ]
    }
   ],
   "source": [
    "def f(n,c):\n",
    "    if c=='r':\n",
    "        print('recursion..')\n",
    "        print (fr(n))\n",
    "    else:\n",
    "        print('non recursion..')\n",
    "        print(fnr(n))\n",
    "f(5,'nr')\n",
    "print(f(5,'r'))"
   ]
  },
  {
   "cell_type": "markdown",
   "metadata": {},
   "source": [
    "## Lambda Functions\n",
    "### [anonymous-without any name]"
   ]
  },
  {
   "cell_type": "code",
   "execution_count": 42,
   "metadata": {},
   "outputs": [
    {
     "name": "stdout",
     "output_type": "stream",
     "text": [
      "16\n",
      "5\n"
     ]
    }
   ],
   "source": [
    "s=lambda x:x*x\n",
    "print(s(4))\n",
    "add=lambda a,b:a+b\n",
    "print(add(2,3))"
   ]
  },
  {
   "cell_type": "code",
   "execution_count": 43,
   "metadata": {},
   "outputs": [
    {
     "name": "stdout",
     "output_type": "stream",
     "text": [
      "True\n",
      "False\n",
      "True\n"
     ]
    }
   ],
   "source": [
    "outcome = 5>4 or 7>8\n",
    "print(outcome)\n",
    "outcome = 5>4 and 7>8\n",
    "print(outcome)\n",
    "outcome = 5>4 and 17>8\n",
    "print(outcome)"
   ]
  },
  {
   "cell_type": "code",
   "execution_count": 65,
   "metadata": {},
   "outputs": [
    {
     "name": "stdout",
     "output_type": "stream",
     "text": [
      "250 150 146\n",
      "250 150 254\n",
      "250 150 108\n",
      "250 -251\n"
     ]
    }
   ],
   "source": [
    "a = 250\n",
    "b = 150\n",
    "print(a,b,a&b)\n",
    "print(a,b,a|b)\n",
    "print(a,b,a^b)\n",
    "print(a,~a)"
   ]
  },
  {
   "cell_type": "code",
   "execution_count": 64,
   "metadata": {},
   "outputs": [
    {
     "name": "stdout",
     "output_type": "stream",
     "text": [
      "254\n",
      "10\n"
     ]
    }
   ],
   "source": [
    "print(0xfe)\n",
    "print(0x0a)"
   ]
  },
  {
   "cell_type": "code",
   "execution_count": 70,
   "metadata": {},
   "outputs": [
    {
     "name": "stdout",
     "output_type": "stream",
     "text": [
      "1st: juice\n",
      "['juice', 'tomatoes', 'potatoes', 'bananas']\n",
      "[1, 4, 9, 16, 25, 36, 49, 64, 81]\n",
      "['tomatoes', 'potatoes']\n"
     ]
    }
   ],
   "source": [
    "l=['juice','tomatoes','potatoes','bananas'] #third bracket-[]\n",
    "print('1st:',l[0])\n",
    "print(l)\n",
    "l2 = [x**2 for x in range(1,10)]\n",
    "print(l2)\n",
    "print(l[-3:-1])"
   ]
  },
  {
   "cell_type": "code",
   "execution_count": 71,
   "metadata": {},
   "outputs": [
    {
     "name": "stdout",
     "output_type": "stream",
     "text": [
      "6\n"
     ]
    }
   ],
   "source": [
    "s=lambda x,y,z:x+y+z\n",
    "print(s(1,2,3))"
   ]
  },
  {
   "cell_type": "code",
   "execution_count": 73,
   "metadata": {},
   "outputs": [
    {
     "name": "stdout",
     "output_type": "stream",
     "text": [
      "['juice', 'tomatoes', 'potatoes', 'bananas']\n",
      "['car wash', 'car drive', 'walk', 'sleep']\n",
      "['juice', 'tomatoes', 'potatoes', 'bananas', 'car wash', 'car drive', 'walk', 'sleep']\n",
      "[['juice', 'tomatoes', 'potatoes', 'bananas'], ['car wash', 'car drive', 'walk', 'sleep']]\n"
     ]
    }
   ],
   "source": [
    "grocery_list=['juice','tomatoes','potatoes','bananas']\n",
    "other_events=['car wash','car drive','walk','sleep']\n",
    "print(grocery_list)\n",
    "print(other_events)\n",
    "to_do_list=grocery_list+other_events\n",
    "print(to_do_list)\n",
    "to_do_list=[grocery_list,other_events]\n",
    "print(to_do_list)"
   ]
  },
  {
   "cell_type": "code",
   "execution_count": 74,
   "metadata": {},
   "outputs": [
    {
     "name": "stdout",
     "output_type": "stream",
     "text": [
      "['juice', 'tomatoes', 'potatoes', 'bananas']\n",
      "juice\n",
      "tomatoes\n",
      "potatoes\n",
      "bananas\n"
     ]
    }
   ],
   "source": [
    "print(grocery_list)\n",
    "for i in grocery_list:\n",
    "    print(i)"
   ]
  },
  {
   "cell_type": "code",
   "execution_count": 77,
   "metadata": {},
   "outputs": [
    {
     "name": "stdout",
     "output_type": "stream",
     "text": [
      "[['juice', 'tomatoes', 'potatoes', 'bananas'], ['car wash', 'car drive', 'walk', 'sleep']]\n",
      "['juice', 'tomatoes', 'potatoes', 'bananas']\n",
      "juice\n",
      "tomatoes\n",
      "potatoes\n",
      "bananas\n",
      "['car wash', 'car drive', 'walk', 'sleep']\n",
      "car wash\n",
      "car drive\n",
      "walk\n",
      "sleep\n"
     ]
    }
   ],
   "source": [
    "to_do_list = [grocery_list, other_events]\n",
    "print (to_do_list)\n",
    "for things in to_do_list:\n",
    "    print(things)\n",
    "    for thing in things:\n",
    "        print(thing)"
   ]
  },
  {
   "cell_type": "code",
   "execution_count": 78,
   "metadata": {},
   "outputs": [
    {
     "name": "stdout",
     "output_type": "stream",
     "text": [
      "['car drive', 'walk']\n"
     ]
    }
   ],
   "source": [
    "print(to_do_list[1][1:3])"
   ]
  },
  {
   "cell_type": "code",
   "execution_count": 79,
   "metadata": {},
   "outputs": [
    {
     "name": "stdout",
     "output_type": "stream",
     "text": [
      "['juice', 'tomatoes', 'potatoes', 'bananas']\n",
      "['juice', 'tomatoes', 'potatoes', 'bananas', 'onion']\n"
     ]
    }
   ],
   "source": [
    "print(grocery_list)\n",
    "grocery_list.append('onion')\n",
    "print(grocery_list)"
   ]
  },
  {
   "cell_type": "code",
   "execution_count": 80,
   "metadata": {},
   "outputs": [
    {
     "name": "stdout",
     "output_type": "stream",
     "text": [
      "['juice', 'tomatoes', 'potatoes', 'bananas', 'onion']\n",
      "['juice', 'pickle', 'tomatoes', 'potatoes', 'bananas', 'onion']\n"
     ]
    }
   ],
   "source": [
    "print(grocery_list)\n",
    "grocery_list.insert(1,'pickle')\n",
    "print(grocery_list)"
   ]
  },
  {
   "cell_type": "code",
   "execution_count": 81,
   "metadata": {},
   "outputs": [
    {
     "name": "stdout",
     "output_type": "stream",
     "text": [
      "['juice', 'tomatoes', 'potatoes', 'bananas', 'onion']\n"
     ]
    }
   ],
   "source": [
    "grocery_list.remove('pickle')\n",
    "print(grocery_list)"
   ]
  },
  {
   "cell_type": "code",
   "execution_count": 82,
   "metadata": {},
   "outputs": [
    {
     "name": "stdout",
     "output_type": "stream",
     "text": [
      "['juice', 'tomatoes', 'potatoes', 'bananas', 'onion']\n",
      "['bananas', 'juice', 'onion', 'potatoes', 'tomatoes']\n"
     ]
    }
   ],
   "source": [
    "print(grocery_list)\n",
    "grocery_list.sort()\n",
    "print(grocery_list)"
   ]
  },
  {
   "cell_type": "code",
   "execution_count": 86,
   "metadata": {},
   "outputs": [
    {
     "name": "stdout",
     "output_type": "stream",
     "text": [
      "[1001, 'Abbas', 'Accountant', True, 2200.0]\n"
     ]
    }
   ],
   "source": [
    "my_list = [1001, 'Abbas', 'Accountant', True, 2200.00]\n",
    "#my_list.sort() String mixed no sort possible\n",
    "print(my_list)"
   ]
  },
  {
   "cell_type": "code",
   "execution_count": 90,
   "metadata": {},
   "outputs": [
    {
     "name": "stdout",
     "output_type": "stream",
     "text": [
      "['100', 'amit', 'accountant', 'belgharia']\n",
      "['100', 'accountant', 'amit', 'belgharia']\n",
      "['belgharia', 'amit', 'accountant', '100']\n",
      "['belgharia', 'amit', '100']\n"
     ]
    }
   ],
   "source": [
    "my_list1 = ['100','amit','accountant','belgharia']\n",
    "print(my_list1)\n",
    "my_list1.sort()\n",
    "print(my_list1)\n",
    "my_list1.reverse()\n",
    "print(my_list1)\n",
    "del my_list1[2]\n",
    "print(my_list1)"
   ]
  },
  {
   "cell_type": "code",
   "execution_count": 91,
   "metadata": {},
   "outputs": [
    {
     "name": "stdout",
     "output_type": "stream",
     "text": [
      "[1001, 'Abbas', 'Accountant', True, 2200.0]\n"
     ]
    },
    {
     "ename": "NameError",
     "evalue": "name 'my_list' is not defined",
     "output_type": "error",
     "traceback": [
      "\u001b[1;31m---------------------------------------------------------------------------\u001b[0m",
      "\u001b[1;31mNameError\u001b[0m                                 Traceback (most recent call last)",
      "\u001b[1;32m<ipython-input-91-c78ad6c33e81>\u001b[0m in \u001b[0;36m<module>\u001b[1;34m()\u001b[0m\n\u001b[0;32m      1\u001b[0m \u001b[0mprint\u001b[0m\u001b[1;33m(\u001b[0m\u001b[0mmy_list\u001b[0m\u001b[1;33m)\u001b[0m\u001b[1;33m\u001b[0m\u001b[0m\n\u001b[0;32m      2\u001b[0m \u001b[1;32mdel\u001b[0m \u001b[0mmy_list\u001b[0m\u001b[1;33m\u001b[0m\u001b[0m\n\u001b[1;32m----> 3\u001b[1;33m \u001b[0mprint\u001b[0m\u001b[1;33m(\u001b[0m\u001b[0mmy_list\u001b[0m\u001b[1;33m)\u001b[0m\u001b[1;33m\u001b[0m\u001b[0m\n\u001b[0m",
      "\u001b[1;31mNameError\u001b[0m: name 'my_list' is not defined"
     ]
    }
   ],
   "source": [
    "print(my_list)\n",
    "del my_list\n",
    "print(my_list)"
   ]
  },
  {
   "cell_type": "markdown",
   "metadata": {},
   "source": [
    "## Tuples"
   ]
  },
  {
   "cell_type": "code",
   "execution_count": 93,
   "metadata": {},
   "outputs": [
    {
     "name": "stdout",
     "output_type": "stream",
     "text": [
      "(1, 2, 'amit', 'male', 34)\n",
      "amit\n"
     ]
    }
   ],
   "source": [
    "# dealing with tuples\n",
    "# tuples are immutable and enclosed in ()\n",
    "my_tuple = (1,2,'amit','male',34)\n",
    "print(my_tuple)\n",
    "print(my_tuple[2])\n",
    "#my_tuple[2] = 'amitava'"
   ]
  },
  {
   "cell_type": "code",
   "execution_count": 97,
   "metadata": {},
   "outputs": [
    {
     "name": "stdout",
     "output_type": "stream",
     "text": [
      "(1, 2, 'amit', 'male', 34)\n",
      "[1, 2, 'amitava', 'male', 34]\n",
      "(1, 2, 'amitava', 'male', 34)\n"
     ]
    }
   ],
   "source": [
    "print(my_tuple)\n",
    "my_list=list(my_tuple)\n",
    "my_list[2]='amitava'\n",
    "print(my_list)\n",
    "my_tuple=tuple(my_list)\n",
    "print(my_tuple)"
   ]
  },
  {
   "cell_type": "code",
   "execution_count": 98,
   "metadata": {},
   "outputs": [
    {
     "name": "stdout",
     "output_type": "stream",
     "text": [
      "6 66 11\n",
      "6 66 11\n"
     ]
    }
   ],
   "source": [
    "my_list=[44,33,22,11,66,55]\n",
    "my_tuple=(44,33,22,11,66,55)\n",
    "print(len(my_list),max(my_list),min(my_list))\n",
    "print(len(my_tuple),max(my_tuple),min(my_tuple))"
   ]
  },
  {
   "cell_type": "code",
   "execution_count": 99,
   "metadata": {},
   "outputs": [
    {
     "name": "stdout",
     "output_type": "stream",
     "text": [
      "{'banana': 'yellow', 'apple': 'red', 'guava': 'green', 'grape': 'black', 'orange': 'orange'}\n"
     ]
    }
   ],
   "source": [
    "# dealing with dictonaries\n",
    "diction_fruit = {\"banana\":\"yellow\",\n",
    "                \"apple\":\"red\",\n",
    "                \"guava\":\"green\",\n",
    "                \"grape\":\"black\",\n",
    "                \"orange\":\"orange\"}\n",
    "print(diction_fruit)"
   ]
  },
  {
   "cell_type": "code",
   "execution_count": 106,
   "metadata": {},
   "outputs": [
    {
     "name": "stdout",
     "output_type": "stream",
     "text": [
      "['banana', 'apple', 'guava', 'grape', 'orange']\n",
      "[('banana', 'yellow'), ('apple', 'red'), ('guava', 'green'), ('grape', 'black'), ('orange', 'orange')]\n"
     ]
    }
   ],
   "source": [
    "#print(diction_fruit.keys())\n",
    "#print(diction_fruit.values())\n",
    "#print(diction_fruit.items())\n",
    "my_list=list(diction_fruit)\n",
    "print(my_list)\n",
    "my_list=list(diction_fruit.items())\n",
    "print(my_list)"
   ]
  },
  {
   "cell_type": "code",
   "execution_count": 109,
   "metadata": {},
   "outputs": [
    {
     "name": "stdout",
     "output_type": "stream",
     "text": [
      "{'banana': 'yellow', 'apple': 'red', 'guava': 'green', 'grape': 'black', 'orange': 'orange'}\n",
      "green\n",
      "green\n",
      "{'banana': 'yellow', 'apple': 'red', 'guava': 'green', 'grape': 'green', 'orange': 'orange'}\n",
      "{'banana': 'yellow', 'apple': 'red', 'guava': 'green', 'grape': 'green', 'orange': 'orange', 'mango': 'yellow'}\n"
     ]
    }
   ],
   "source": [
    "print(diction_fruit)\n",
    "print(diction_fruit[\"guava\"])\n",
    "print(diction_fruit.get(\"guava\"))\n",
    "#print(diction_fruit['pineapple'])\n",
    "diction_fruit['grape']='green'\n",
    "print(diction_fruit)\n",
    "diction_fruit['mango']='yellow'\n",
    "print(diction_fruit)"
   ]
  },
  {
   "cell_type": "code",
   "execution_count": 110,
   "metadata": {},
   "outputs": [
    {
     "name": "stdout",
     "output_type": "stream",
     "text": [
      "{'banana': 'yellow', 'apple': 'red', 'guava': 'green', 'grape': 'green', 'orange': 'orange', 'mango': 'yellow'}\n",
      "{'banana': 'yellow', 'apple': 'red', 'guava': 'green', 'orange': 'orange', 'mango': 'yellow'}\n"
     ]
    }
   ],
   "source": [
    "print(diction_fruit)\n",
    "del diction_fruit['grape']\n",
    "print(diction_fruit)"
   ]
  },
  {
   "cell_type": "code",
   "execution_count": 111,
   "metadata": {},
   "outputs": [
    {
     "name": "stdout",
     "output_type": "stream",
     "text": [
      "{'banana': 'yellow', 'apple': 'red', 'guava': 'green', 'orange': 'orange', 'mango': 'yellow'}\n",
      "{}\n"
     ]
    }
   ],
   "source": [
    "print(diction_fruit)\n",
    "diction_fruit.clear()\n",
    "print(diction_fruit)"
   ]
  },
  {
   "cell_type": "code",
   "execution_count": 112,
   "metadata": {},
   "outputs": [
    {
     "name": "stdout",
     "output_type": "stream",
     "text": [
      "{}\n"
     ]
    },
    {
     "ename": "NameError",
     "evalue": "name 'diction_fruit' is not defined",
     "output_type": "error",
     "traceback": [
      "\u001b[1;31m---------------------------------------------------------------------------\u001b[0m",
      "\u001b[1;31mNameError\u001b[0m                                 Traceback (most recent call last)",
      "\u001b[1;32m<ipython-input-112-28169db6cd23>\u001b[0m in \u001b[0;36m<module>\u001b[1;34m()\u001b[0m\n\u001b[0;32m      1\u001b[0m \u001b[0mprint\u001b[0m\u001b[1;33m(\u001b[0m\u001b[0mdiction_fruit\u001b[0m\u001b[1;33m)\u001b[0m\u001b[1;33m\u001b[0m\u001b[0m\n\u001b[0;32m      2\u001b[0m \u001b[1;32mdel\u001b[0m \u001b[0mdiction_fruit\u001b[0m\u001b[1;33m\u001b[0m\u001b[0m\n\u001b[1;32m----> 3\u001b[1;33m \u001b[0mprint\u001b[0m\u001b[1;33m(\u001b[0m\u001b[0mdiction_fruit\u001b[0m\u001b[1;33m)\u001b[0m\u001b[1;33m\u001b[0m\u001b[0m\n\u001b[0m",
      "\u001b[1;31mNameError\u001b[0m: name 'diction_fruit' is not defined"
     ]
    }
   ],
   "source": [
    "print(diction_fruit)\n",
    "del diction_fruit\n",
    "print(diction_fruit)"
   ]
  },
  {
   "cell_type": "code",
   "execution_count": 113,
   "metadata": {},
   "outputs": [
    {
     "name": "stdout",
     "output_type": "stream",
     "text": [
      "{'banana': 'yellow', 'apple': 'red', 'guava': 'green', 'grape': 'black', 'orange': 'orange'}\n"
     ]
    }
   ],
   "source": [
    "# dealing with dictonaries\n",
    "diction_fruit = {\"banana\":\"yellow\",\n",
    "                \"apple\":\"red\",\n",
    "                \"guava\":\"green\",\n",
    "                \"grape\":\"black\",\n",
    "                \"orange\":\"orange\"}\n",
    "print(diction_fruit)"
   ]
  },
  {
   "cell_type": "code",
   "execution_count": 114,
   "metadata": {},
   "outputs": [
    {
     "name": "stdout",
     "output_type": "stream",
     "text": [
      "Error 'pineapple' occurred...\n"
     ]
    }
   ],
   "source": [
    "try:\n",
    "    print(diction_fruit['pineapple'])\n",
    "except KeyError as e:\n",
    "    print('Error',e,'occurred...')"
   ]
  },
  {
   "cell_type": "code",
   "execution_count": 115,
   "metadata": {},
   "outputs": [
    {
     "name": "stdout",
     "output_type": "stream",
     "text": [
      "exception  unsupported operand type(s) for /: 'str' and 'int'\n"
     ]
    }
   ],
   "source": [
    "try:\n",
    "    l='a'\n",
    "    s=l/2\n",
    "except Exception as e:\n",
    "    print('exception ',e)"
   ]
  },
  {
   "cell_type": "markdown",
   "metadata": {},
   "source": [
    "## set - unordered,unique values,diff dt,{} "
   ]
  },
  {
   "cell_type": "code",
   "execution_count": 118,
   "metadata": {},
   "outputs": [
    {
     "data": {
      "text/plain": [
       "set()"
      ]
     },
     "execution_count": 118,
     "metadata": {},
     "output_type": "execute_result"
    }
   ],
   "source": [
    "empty_set=set()\n",
    "empty_set"
   ]
  },
  {
   "cell_type": "code",
   "execution_count": 121,
   "metadata": {},
   "outputs": [
    {
     "name": "stdout",
     "output_type": "stream",
     "text": [
      "3\n",
      "{'cobra', 'viper', 'python'}\n"
     ]
    }
   ],
   "source": [
    "languages={'python','r','java'}\n",
    "snakes=set(('cobra','viper','python'))\n",
    "print(len(languages))\n",
    "print(snakes)"
   ]
  },
  {
   "cell_type": "code",
   "execution_count": 125,
   "metadata": {},
   "outputs": [
    {
     "data": {
      "text/plain": [
       "True"
      ]
     },
     "execution_count": 125,
     "metadata": {},
     "output_type": "execute_result"
    }
   ],
   "source": [
    "'python' in languages\n",
    "'a' not in languages"
   ]
  },
  {
   "cell_type": "code",
   "execution_count": 126,
   "metadata": {},
   "outputs": [
    {
     "data": {
      "text/plain": [
       "{'java', 'python', 'r'}"
      ]
     },
     "execution_count": 126,
     "metadata": {},
     "output_type": "execute_result"
    }
   ],
   "source": [
    "languages"
   ]
  },
  {
   "cell_type": "code",
   "execution_count": 127,
   "metadata": {},
   "outputs": [
    {
     "data": {
      "text/plain": [
       "{'cobra', 'python', 'viper'}"
      ]
     },
     "execution_count": 127,
     "metadata": {},
     "output_type": "execute_result"
    }
   ],
   "source": [
    "snakes"
   ]
  },
  {
   "cell_type": "code",
   "execution_count": 131,
   "metadata": {},
   "outputs": [
    {
     "name": "stdout",
     "output_type": "stream",
     "text": [
      "{'python'}\n"
     ]
    }
   ],
   "source": [
    "#Intersect\n",
    "languages & snakes\n",
    "print(languages.intersection(snakes))"
   ]
  },
  {
   "cell_type": "code",
   "execution_count": 132,
   "metadata": {},
   "outputs": [
    {
     "name": "stdout",
     "output_type": "stream",
     "text": [
      "{'cobra', 'java', 'viper', 'r', 'python'}\n"
     ]
    }
   ],
   "source": [
    "# Union\n",
    "languages | snakes\n",
    "print(languages.union(snakes))"
   ]
  },
  {
   "cell_type": "code",
   "execution_count": 133,
   "metadata": {},
   "outputs": [
    {
     "name": "stdout",
     "output_type": "stream",
     "text": [
      "{'java', 'r'}\n"
     ]
    }
   ],
   "source": [
    "# Difference\n",
    "languages-snakes\n",
    "print(languages.difference(snakes))"
   ]
  },
  {
   "cell_type": "code",
   "execution_count": 134,
   "metadata": {},
   "outputs": [
    {
     "data": {
      "text/plain": [
       "{'cobra', 'viper'}"
      ]
     },
     "execution_count": 134,
     "metadata": {},
     "output_type": "execute_result"
    }
   ],
   "source": [
    "snakes-languages"
   ]
  },
  {
   "cell_type": "code",
   "execution_count": 137,
   "metadata": {},
   "outputs": [
    {
     "name": "stdout",
     "output_type": "stream",
     "text": [
      "{'cobra', 'java', 'viper', 'r'}\n"
     ]
    }
   ],
   "source": [
    "#Symmetric Difference ie a SD b = a|b - a&b\n",
    "print(snakes.symmetric_difference(languages))"
   ]
  },
  {
   "cell_type": "code",
   "execution_count": 138,
   "metadata": {},
   "outputs": [],
   "source": [
    "# modifying a set and it does not return a set\n",
    "languages.add('sql')"
   ]
  },
  {
   "cell_type": "code",
   "execution_count": 139,
   "metadata": {},
   "outputs": [
    {
     "data": {
      "text/plain": [
       "{'java', 'python', 'r', 'sql'}"
      ]
     },
     "execution_count": 139,
     "metadata": {},
     "output_type": "execute_result"
    }
   ],
   "source": [
    "languages"
   ]
  },
  {
   "cell_type": "code",
   "execution_count": 144,
   "metadata": {},
   "outputs": [],
   "source": [
    "languages.add(1)"
   ]
  },
  {
   "cell_type": "code",
   "execution_count": 145,
   "metadata": {},
   "outputs": [
    {
     "data": {
      "text/plain": [
       "{1, 'python', 'r', 'sql'}"
      ]
     },
     "execution_count": 145,
     "metadata": {},
     "output_type": "execute_result"
    }
   ],
   "source": [
    "languages"
   ]
  },
  {
   "cell_type": "code",
   "execution_count": 148,
   "metadata": {},
   "outputs": [],
   "source": [
    "languages.remove(1)"
   ]
  },
  {
   "cell_type": "code",
   "execution_count": 149,
   "metadata": {},
   "outputs": [],
   "source": [
    "languages.add('java')"
   ]
  },
  {
   "cell_type": "code",
   "execution_count": 152,
   "metadata": {},
   "outputs": [],
   "source": [
    "languages.discard('c++')  #no error generated"
   ]
  },
  {
   "cell_type": "code",
   "execution_count": 151,
   "metadata": {},
   "outputs": [
    {
     "name": "stdout",
     "output_type": "stream",
     "text": [
      "Error 'c++' occurred...\n"
     ]
    }
   ],
   "source": [
    "try:\n",
    "    languages.remove('c++')\n",
    "except KeyError as e:\n",
    "    print('Error',e,'occurred...')"
   ]
  },
  {
   "cell_type": "code",
   "execution_count": 156,
   "metadata": {},
   "outputs": [
    {
     "name": "stdout",
     "output_type": "stream",
     "text": [
      "{'3', '4', '2', '1'}\n",
      "{'o', '4', '3', '2', 'p', 'k', 'g', 's', '1', 'a', 'r'}\n"
     ]
    }
   ],
   "source": [
    "languages.clear()\n",
    "languages.update('122','344')  #distinct characters of its elements\n",
    "print(languages)\n",
    "languages.update('go','spark')\n",
    "print(languages)"
   ]
  },
  {
   "cell_type": "code",
   "execution_count": 161,
   "metadata": {},
   "outputs": [
    {
     "data": {
      "text/plain": [
       "[2, 3, 7, 11, 45]"
      ]
     },
     "execution_count": 161,
     "metadata": {},
     "output_type": "execute_result"
    }
   ],
   "source": [
    "s=sorted(set([9,0,3,2,1,4,6,9,0,1]))\n",
    "s.reverse()\n",
    "sorted({11,45,3,2,7,3})"
   ]
  },
  {
   "cell_type": "markdown",
   "metadata": {},
   "source": [
    "## 3/01/2019"
   ]
  },
  {
   "cell_type": "code",
   "execution_count": 1,
   "metadata": {},
   "outputs": [],
   "source": [
    "# Object Oriented Programming\n",
    "# dealing with class and objects...\n",
    "# a class can have two types of variables -\n",
    "# 1) Class variable and 2) Instance variable\n",
    "# __->private _->protected no _ ->public\n",
    "# self->this in c++, java (dummy object name)\n",
    "# class variable act as a static variable ie, one time memory allocation\n",
    "# All method is defined once, . is a membership operator"
   ]
  },
  {
   "cell_type": "code",
   "execution_count": 12,
   "metadata": {},
   "outputs": [
    {
     "name": "stdout",
     "output_type": "stream",
     "text": [
      "ClassVar=100 and ClassVar2=200\n",
      "InstVar=300 and InstVar2 =400\n",
      "ClassVar=10 and ClassVar2=20\n",
      "InstVar=500 and InstVar2 =600\n"
     ]
    }
   ],
   "source": [
    "class My_Class:\n",
    "    __classVar1 = 100\n",
    "    __classVar2 = 200\n",
    "    def __init__(self,data1,data2):# Constructor all instance variable is defined there\n",
    "        self.__instVar1 = data1\n",
    "        self.__instVar2 = data2\n",
    "    def display(self):# self passed as one of the input argument\n",
    "        print(\"ClassVar={} and ClassVar2={}\".format(My_Class.__classVar1,My_Class.__classVar2))\n",
    "        print(\"InstVar={} and InstVar2 ={}\".format(self.__instVar1,self.__instVar2))\n",
    "    def update(self, ndata1, ndata2):\n",
    "        My_Class.__classVar1 = ndata1\n",
    "        My_Class.__classVar2 = ndata2\n",
    "object1 = My_Class(300,400)\n",
    "object1.display()\n",
    "object1.update(10,20)\n",
    "object2 = My_Class(500,600)\n",
    "object2.display()"
   ]
  },
  {
   "cell_type": "code",
   "execution_count": 18,
   "metadata": {},
   "outputs": [
    {
     "name": "stdout",
     "output_type": "stream",
     "text": [
      "white cat is 33 cm tall ,10 kg and says meow\n"
     ]
    }
   ],
   "source": [
    "class Animal:\n",
    "    def __init__(self,name,height,weight,sound):\n",
    "        self.__name=name\n",
    "        self.__height=height\n",
    "        self.__weight=weight\n",
    "        self.__sound=sound\n",
    "    def set_name(self,name):\n",
    "        self.__name=name\n",
    "    def set_height(self,height):\n",
    "        self.__height=height\n",
    "    def set_weight(self,weight):\n",
    "        self.__weight=weight\n",
    "    def set_sound(self,sound):\n",
    "        self.__sound=sound\n",
    "    def get_name(self):\n",
    "        return self.__name\n",
    "    def get_height(self):\n",
    "        return self.__height\n",
    "    def get_weight(self):\n",
    "        return self.__weight\n",
    "    def get_sound(self):\n",
    "        return self.__sound\n",
    "    def get_type(self):\n",
    "        print (\"Animal...\")\n",
    "    def displayAnimal(self):\n",
    "        return '{} is {} cm tall ,{} kg and says {}'.format(self.__name,self.__height,self.__weight,self.__sound)\n",
    "cat=Animal('white cat',33,10,'meow')\n",
    "print(cat.displayAnimal())"
   ]
  },
  {
   "cell_type": "code",
   "execution_count": 27,
   "metadata": {},
   "outputs": [
    {
     "name": "stdout",
     "output_type": "stream",
     "text": [
      "Spot is 53 cm tall, 27 kg, says Ruff with owner Anup\n",
      "RuffRuffRuff\n",
      "Ruff\n"
     ]
    }
   ],
   "source": [
    "class Dog(Animal):\n",
    "    def __init__(self,name,height,weight,sound,owner):\n",
    "        self.__owner=owner\n",
    "        super(Dog,self).__init__(name,height,weight,sound)\n",
    "    def set_owner(self,owner):\n",
    "        self.__owner=owner\n",
    "    def get_owner(self):\n",
    "        return self.__owner\n",
    "    def get_type(self):\n",
    "        print('Dog')\n",
    "    def displayDog(self):\n",
    "        return '{} is {} cm tall, {} kg, says {} with owner {}'\\\n",
    "    .format(self.get_name(),self.get_height(),self.get_weight(),self.get_sound(),self.__owner)\n",
    "    def multiple_sounds(self,how_many=None):\n",
    "        if how_many is None:\n",
    "            print(self.get_sound())\n",
    "        else :\n",
    "            print(self.get_sound()*how_many)\n",
    "spot=Dog('Spot',53,27,'Ruff','Anup')\n",
    "print(spot.displayDog())\n",
    "spot.multiple_sounds(3)\n",
    "spot.multiple_sounds()"
   ]
  },
  {
   "cell_type": "code",
   "execution_count": 29,
   "metadata": {},
   "outputs": [
    {
     "name": "stdout",
     "output_type": "stream",
     "text": [
      "Animal...\n",
      "Dog\n",
      "RuffRuffRuff\n",
      "Ruff\n"
     ]
    }
   ],
   "source": [
    "class Animal_Testing:\n",
    "    def get_type(self,animal):\n",
    "        animal.get_type()\n",
    "test_animals=Animal_Testing()\n",
    "test_animals.get_type(cat)\n",
    "test_animals.get_type(spot)\n",
    "spot.multiple_sounds(3)\n",
    "spot.multiple_sounds()"
   ]
  },
  {
   "cell_type": "code",
   "execution_count": null,
   "metadata": {},
   "outputs": [],
   "source": [
    "#Class can be related with other class as\n",
    "# is a -> inheritance\n",
    "# has_a -> aggregation(class having instances of other classes)\n",
    "# as a ->\n",
    "# tree, mango tree, gard"
   ]
  },
  {
   "cell_type": "code",
   "execution_count": 73,
   "metadata": {},
   "outputs": [
    {
     "name": "stdout",
     "output_type": "stream",
     "text": [
      "code is TR001 height is 10 width is 6 amount spent is 1200.0\n"
     ]
    }
   ],
   "source": [
    "class Tree:\n",
    "    def __init__(self,code,height,width,amount_spend):\n",
    "        self.__code=code\n",
    "        self.__height=height\n",
    "        self.__width=width\n",
    "        self.__amount_spend=amount_spend\n",
    "    def get_amount_spend(self): \n",
    "        return self.__amount_spend\n",
    "    def AnnualUpdate(self,htt,wdd,amtt):\n",
    "        self.__height+=htt\n",
    "        self.__width+=wdd\n",
    "        self.__amount_spend+=amtt\n",
    "    def DisplayTree(self):\n",
    "        print('code is {} height is {} width is {} amount spent is {}'\\\n",
    "              .format(self.__code,self.__height,self.__width,self.__amount_spend))\n",
    "        \n",
    "t1=Tree(\"TR001\",10,6,1200.00)\n",
    "t1.DisplayTree()"
   ]
  },
  {
   "cell_type": "code",
   "execution_count": 74,
   "metadata": {},
   "outputs": [
    {
     "name": "stdout",
     "output_type": "stream",
     "text": [
      "code is Man001 height is 20.0 width is 8.0 amount spent is 1200.0\n",
      "yield is 1000\n",
      "code is Man001 height is 40.0 width is 16.0 amount spent is 2400.0\n",
      "yield is 2000\n"
     ]
    }
   ],
   "source": [
    "class MangoTree(Tree):\n",
    "    def __init__(self,code,height,width,amount_spend,my_yield):\n",
    "        super(MangoTree,self).__init__(code,height,width,amount_spend)\n",
    "        self.__my_yield=my_yield\n",
    "    def get_yield(self):\n",
    "        return self.__my_yield\n",
    "    def MangoTreeDisplay(self):\n",
    "        super(MangoTree,self).DisplayTree()\n",
    "        print('yield is {}'.format(self.__my_yield))\n",
    "    def AnnualUpdate(self,htt,wdd,amtt,yyld):\n",
    "        super(MangoTree,self).AnnualUpdate(htt,wdd,amtt)\n",
    "        self.__my_yield+=yyld\n",
    "\n",
    "m1=MangoTree(\"Man001\",20.0,8.0,1200.00,1000)\n",
    "m1.MangoTreeDisplay()\n",
    "m1.AnnualUpdate(20.0,8.0,1200.00,1000)\n",
    "m1.MangoTreeDisplay()"
   ]
  },
  {
   "cell_type": "code",
   "execution_count": 72,
   "metadata": {},
   "outputs": [
    {
     "name": "stdout",
     "output_type": "stream",
     "text": [
      "code is HimSagar height is 20.0 width is 8.0 amount spent is 1200.0\n",
      "yield is 1000\n",
      "code is Chausa height is 21.0 width is 9.0 amount spent is 1400.0\n",
      "yield is 1200\n",
      "code is Langra height is 22.0 width is 10.0 amount spent is 1600.0\n",
      "yield is 1400\n",
      "code is Banyan height is 10 width is 6 amount spent is 1200.0\n",
      "code is Palm height is 11 width is 6.5 amount spent is 1400.0\n",
      "So the total amount yield =  3600\n",
      "So the total amount spent =  6800.0\n"
     ]
    }
   ],
   "source": [
    "class Garden:\n",
    "    def __init__(self,m1,m2,m3,t1,t2):\n",
    "        self.__mango1=m1\n",
    "        self.__mango2=m2\n",
    "        self.__mango3=m3\n",
    "        self.__tr1=t1\n",
    "        self.__tr2=t2\n",
    "    def total_yield(self):\n",
    "        return self.__mango1.get_yield()+self.__mango2.get_yield()+self.__mango3.get_yield()\n",
    "    def total_spent(self):\n",
    "        return self.__tr1.get_amount_spend()+self.__tr2.get_amount_spend()+\\\n",
    "                       self.__mango1.get_amount_spend()+self.__mango2.get_amount_spend()+\\\n",
    "                       self.__mango3.get_amount_spend()\n",
    "    def GardenDisplay(self):\n",
    "        self.__mango1.MangoTreeDisplay();\n",
    "        self.__mango2.MangoTreeDisplay();\n",
    "        self.__mango3.MangoTreeDisplay();\n",
    "        self.__tr1.DisplayTree();\n",
    "        self.__tr2.DisplayTree();\n",
    "        print(\"So the total amount yield = \",self.total_yield())\n",
    "        print(\"So the total amount spent = \",self.total_spent())\n",
    "\n",
    "g = Garden(MangoTree(\"HimSagar\",20.0,8.0,1200.00,1000),\\\n",
    "            MangoTree(\"Chausa\",21.0,9.0,1400.00,1200),\\\n",
    "            MangoTree(\"Langra\",22.0,10.0,1600.00,1400),\\\n",
    "            Tree(\"Banyan\",10,6,1200.00),\\\n",
    "            Tree(\"Palm\",11,6.5,1400.00))\n",
    "g.GardenDisplay()"
   ]
  },
  {
   "cell_type": "code",
   "execution_count": 6,
   "metadata": {},
   "outputs": [
    {
     "data": {
      "text/plain": [
       "'25/10/1990'"
      ]
     },
     "execution_count": 6,
     "metadata": {},
     "output_type": "execute_result"
    }
   ],
   "source": [
    "# Example no. 2\n",
    "class Date:\n",
    "    def __init__(self,year,month,day):\n",
    "        self.__year = year\n",
    "        self.__month = month\n",
    "        self.__day = day\n",
    "    def displayDate(self):\n",
    "        return '{}/{}/{}'.format(self.__day,self.__month,self.__year)\n",
    "d = Date(1990,10,25)\n",
    "d.displayDate()"
   ]
  },
  {
   "cell_type": "code",
   "execution_count": 14,
   "metadata": {},
   "outputs": [
    {
     "name": "stdout",
     "output_type": "stream",
     "text": [
      "Television maker is Sonodyne size is 21 dop is 25/8/1998 is colorful\n"
     ]
    }
   ],
   "source": [
    "class Television:\n",
    "    def __init__(self,make,size,dop,isColor):\n",
    "        self.__make=make\n",
    "        self.__size=size\n",
    "        self.__dop=dop\n",
    "        self.__isColor=isColor\n",
    "    def displayTelevision(self):\n",
    "        print('Television maker is {} size is {} dop is {}'.format(self.__make,self.__size,self.__dop.displayDate(),self.__isColor),end='')\n",
    "        if(self.__isColor):\n",
    "            print(' is colorful')\n",
    "        else:\n",
    "            print(' not colorful')\n",
    "tv1=Television(\"Sonodyne\",21,Date(1998,8,25),True)\n",
    "tv1.displayTelevision()"
   ]
  },
  {
   "cell_type": "code",
   "execution_count": 16,
   "metadata": {},
   "outputs": [
    {
     "name": "stdout",
     "output_type": "stream",
     "text": [
      "The Room is Bed with dimension 10.0 x 16.0 x 10.0 and has 2 fans, 2 lights, 3 windows, and 3 doors\n",
      "160.0\n"
     ]
    }
   ],
   "source": [
    "class Room:\n",
    "    \n",
    "    def __init__(self,name,length,breadth,height,\\\n",
    "                 fans,lights,windows,doors):\n",
    "        self.__name = name\n",
    "        self.__length = length\n",
    "        self.__breadth = breadth\n",
    "        self.__height = height\n",
    "        self.__floorArea = length * breadth\n",
    "        self.__wallArea = 2*height*(length+breadth)*0.80\n",
    "        self.__fans = fans\n",
    "        self.__lights = lights\n",
    "        self.__windows = windows\n",
    "        self.__doors = doors\n",
    "\n",
    "    def displayRoom(self):\n",
    "        print('The Room is {} with dimension {} x {} x {} and has {} fans, {} lights, {} windows, and {} doors'\\\n",
    "              .format(self.__name,self.__length,self.__breadth,self.__height,\\\n",
    "                                                       self.__fans,self.__lights,self.__windows,self.__doors))\n",
    "    def get_floorArea(self):\n",
    "        return self.__floorArea\n",
    "r1=Room(\"Bed\",10.0,16.0,10.0,2,2,3,3)\n",
    "r1.displayRoom()\n",
    "print(r1.get_floorArea())"
   ]
  },
  {
   "cell_type": "code",
   "execution_count": 28,
   "metadata": {},
   "outputs": [
    {
     "name": "stdout",
     "output_type": "stream",
     "text": [
      "The house has 1001 door no.\n",
      "The Room is Bed Room with dimension 10.0 x 16.0 x 10.0 and has 2 fans, 2 lights, 3 windows, and 3 doors\n",
      "The Room is Dining Room with dimension 12.0 x 8.0 x 10.0 and has 2 fans, 2 lights, 3 windows, and 3 doors\n",
      "The Room is Hall TV Room with dimension 10.0 x 16.0 x 10.0 and has 2 fans, 2 lights, 3 windows, and 3 doors\n",
      "The Room is Kitchen Room with dimension 6.0 x 16.0 x 10.0 and has 2 fans, 2 lights, 3 windows, and 3 doors\n",
      "The Room is Drawing Room with dimension 12.0 x 8.0 x 10.0 and has 2 fans, 2 lights, 3 windows, and 3 doors\n",
      "Television maker is Sonodyne size is 21 dop is 20/10/1999 is colorful\n",
      "The date of purchase is 20/10/1999\n"
     ]
    }
   ],
   "source": [
    "class House:\n",
    "    def __init__(self,doorNo,bed,dining,hall,kitchen,drawing,tv,doc):\n",
    "        self.__doorNo = doorNo\n",
    "        self.__doc = doc\n",
    "        self.__br = bed\n",
    "        self.__dr = dining\n",
    "        self.__hr = hall\n",
    "        self.__kr = kitchen\n",
    "        self.__dw = drawing\n",
    "        self.__tv = tv\n",
    "        self.__area = self.__br.get_floorArea()+self.__dr.get_floorArea()+self.__hr.get_floorArea()+\\\n",
    "        self.__kr.get_floorArea()+self.__dw.get_floorArea()\n",
    "        self.__PlinthArea=self.__area*1.50\n",
    "        self.__groundArea=self.__area*1.75\n",
    "    def displayHouse(self):\n",
    "        print('The house has {} door no.'.format(self.__doorNo))\n",
    "        self.__br.displayRoom()\n",
    "        self.__dr.displayRoom()\n",
    "        self.__hr.displayRoom()\n",
    "        self.__kr.displayRoom()\n",
    "        self.__dw.displayRoom()\n",
    "        self.__tv.displayTelevision()\n",
    "        print('The date of purchase is',self.__doc.displayDate())\n",
    "        \n",
    "r1=Room(\"Bed Room\",10.0,16.0,10.0,2,2,3,3)\n",
    "h1=House(1001,r1,Room(\"Dining Room\",12.0,8.0,10.0,2,2,3,3),\\\n",
    "         Room(\"Hall TV Room\",10.0,16.0,10.0,2,2,3,3),\\\n",
    "         Room(\"Kitchen Room\",6.0,16.0,10.0,2,2,3,3),\\\n",
    "         Room(\"Drawing Room\",12.0,8.0,10.0,2,2,3,3),\\\n",
    "         Television(\"Sonodyne\",21,Date(1999,10,20),True),\\\n",
    "         Date(1999,10,20))\n",
    "h1.displayHouse()"
   ]
  },
  {
   "cell_type": "code",
   "execution_count": 22,
   "metadata": {},
   "outputs": [
    {
     "name": "stdout",
     "output_type": "stream",
     "text": [
      "The park is 100 x 200\n"
     ]
    }
   ],
   "source": [
    "class Park:\n",
    "    def __init__(self,length,breadth):\n",
    "        self.__ll = length\n",
    "        self.__bb = breadth\n",
    "        self.__area = length*breadth\n",
    "\n",
    "    def displayPark(self):\n",
    "        print('The park is {} x {}'.format(self.__ll,self.__bb))\n",
    "pk1=Park(100,200)\n",
    "pk1.displayPark()"
   ]
  },
  {
   "cell_type": "code",
   "execution_count": 29,
   "metadata": {},
   "outputs": [
    {
     "name": "stdout",
     "output_type": "stream",
     "text": [
      "The area of the block is  40000\n",
      "\n",
      "The house has 1001 door no.\n",
      "The Room is Bed Room with dimension 10.0 x 16.0 x 10.0 and has 2 fans, 2 lights, 3 windows, and 3 doors\n",
      "The Room is Dining Room with dimension 12.0 x 8.0 x 10.0 and has 2 fans, 2 lights, 3 windows, and 3 doors\n",
      "The Room is Hall TV Room with dimension 10.0 x 16.0 x 10.0 and has 2 fans, 2 lights, 3 windows, and 3 doors\n",
      "The Room is Kitchen Room with dimension 6.0 x 16.0 x 10.0 and has 2 fans, 2 lights, 3 windows, and 3 doors\n",
      "The Room is Drawing Room with dimension 12.0 x 8.0 x 10.0 and has 2 fans, 2 lights, 3 windows, and 3 doors\n",
      "Television maker is Sonodyne size is 21 dop is 20/10/2000 is colorful\n",
      "The date of purchase is 20/10/1999\n",
      "\n",
      "The house has 1002 door no.\n",
      "The Room is Bed Room with dimension 10.0 x 16.0 x 10.0 and has 2 fans, 2 lights, 3 windows, and 3 doors\n",
      "The Room is Dining Room with dimension 12.0 x 8.0 x 10.0 and has 2 fans, 2 lights, 3 windows, and 3 doors\n",
      "The Room is Hall TV Room with dimension 10.0 x 16.0 x 10.0 and has 2 fans, 2 lights, 3 windows, and 3 doors\n",
      "The Room is Kitchen Room with dimension 6.0 x 16.0 x 10.0 and has 2 fans, 2 lights, 3 windows, and 3 doors\n",
      "The Room is Drawing Room with dimension 12.0 x 8.0 x 10.0 and has 2 fans, 2 lights, 3 windows, and 3 doors\n",
      "Television maker is BPL size is 21 dop is 21/11/2000 is colorful\n",
      "The date of purchase is 21/11/1999\n",
      "\n",
      "The house has 1003 door no.\n",
      "The Room is Bed Room with dimension 10.0 x 16.0 x 10.0 and has 2 fans, 2 lights, 3 windows, and 3 doors\n",
      "The Room is Dining Room with dimension 12.0 x 8.0 x 10.0 and has 2 fans, 2 lights, 3 windows, and 3 doors\n",
      "The Room is Hall TV Room with dimension 10.0 x 16.0 x 10.0 and has 2 fans, 2 lights, 3 windows, and 3 doors\n",
      "The Room is Kitchen Room with dimension 6.0 x 16.0 x 10.0 and has 2 fans, 2 lights, 3 windows, and 3 doors\n",
      "The Room is Drawing Room with dimension 12.0 x 8.0 x 10.0 and has 2 fans, 2 lights, 3 windows, and 3 doors\n",
      "Television maker is Onida size is 21 dop is 22/9/2000 is colorful\n",
      "The date of purchase is 22/9/1999\n",
      "\n",
      "The house has 1004 door no.\n",
      "The Room is Bed Room with dimension 10.0 x 16.0 x 10.0 and has 2 fans, 2 lights, 3 windows, and 3 doors\n",
      "The Room is Dining Room with dimension 12.0 x 8.0 x 10.0 and has 2 fans, 2 lights, 3 windows, and 3 doors\n",
      "The Room is Hall TV Room with dimension 10.0 x 16.0 x 10.0 and has 2 fans, 2 lights, 3 windows, and 3 doors\n",
      "The Room is Kitchen Room with dimension 6.0 x 16.0 x 10.0 and has 2 fans, 2 lights, 3 windows, and 3 doors\n",
      "The Room is Drawing Room with dimension 12.0 x 8.0 x 10.0 and has 2 fans, 2 lights, 3 windows, and 3 doors\n",
      "Television maker is LG size is 21 dop is 23/12/2000 is colorful\n",
      "The date of purchase is 23/12/1999\n",
      "\n",
      "The park is 100 x 200\n"
     ]
    }
   ],
   "source": [
    "class Block:\n",
    "    def __init__(self,ll,bb,hh1,hh2,hh3,hh4,pk1):\n",
    "        self.__length = ll\n",
    "        self.__breadth = bb\n",
    "        self.__area = ll*bb\n",
    "        self.__h1 = hh1\n",
    "        self.__h2 = hh2\n",
    "        self.__h3 = hh3\n",
    "        self.__h4 = hh4\n",
    "        self.__pk = pk1\n",
    "    def displayBlock(self):\n",
    "        print(\"The area of the block is \",self.__area)\n",
    "        print()\n",
    "        self.__h1.displayHouse();\n",
    "        print()\n",
    "        self.__h2.displayHouse();\n",
    "        print()\n",
    "        self.__h3.displayHouse();\n",
    "        print()\n",
    "        self.__h4.displayHouse();\n",
    "        print()\n",
    "        self.__pk.displayPark();\n",
    "bk1 = Block(400,100,\n",
    "            House(1001,Room(\"Bed Room\",10.0,16.0,10.0,2,2,3,3),\\\n",
    "                  Room(\"Dining Room\",12.0,8.0,10.0,2,2,3,3),\\\n",
    "                  Room(\"Hall TV Room\",10.0,16.0,10.0,2,2,3,3),\\\n",
    "                  Room(\"Kitchen Room\",6.0,16.0,10.0,2,2,3,3),\\\n",
    "                  Room(\"Drawing Room\",12.0,8.0,10.0,2,2,3,3),\\\n",
    "                  Television(\"Sonodyne\",21,Date(2000,10,20),True),\\\n",
    "                  Date(1999,10,20)),\\\n",
    "            House(1002,Room(\"Bed Room\",10.0,16.0,10.0,2,2,3,3),\\\n",
    "                  Room(\"Dining Room\",12.0,8.0,10.0,2,2,3,3),\\\n",
    "                  Room(\"Hall TV Room\",10.0,16.0,10.0,2,2,3,3),\\\n",
    "                  Room(\"Kitchen Room\",6.0,16.0,10.0,2,2,3,3),\\\n",
    "                  Room(\"Drawing Room\",12.0,8.0,10.0,2,2,3,3),\\\n",
    "                  Television(\"BPL\",21,Date(2000,11,21),True),\\\n",
    "                  Date(1999,11,21)),\\\n",
    "            House(1003,Room(\"Bed Room\",10.0,16.0,10.0,2,2,3,3),\\\n",
    "                  Room(\"Dining Room\",12.0,8.0,10.0,2,2,3,3),\\\n",
    "                  Room(\"Hall TV Room\",10.0,16.0,10.0,2,2,3,3),\\\n",
    "                  Room(\"Kitchen Room\",6.0,16.0,10.0,2,2,3,3),\\\n",
    "                  Room(\"Drawing Room\",12.0,8.0,10.0,2,2,3,3),\\\n",
    "                  Television(\"Onida\",21,Date(2000,9,22),True),\\\n",
    "                  Date(1999,9,22)),\\\n",
    "            House(1004,Room(\"Bed Room\",10.0,16.0,10.0,2,2,3,3),\\\n",
    "                  Room(\"Dining Room\",12.0,8.0,10.0,2,2,3,3),\\\n",
    "                  Room(\"Hall TV Room\",10.0,16.0,10.0,2,2,3,3),\\\n",
    "                  Room(\"Kitchen Room\",6.0,16.0,10.0,2,2,3,3),\\\n",
    "                  Room(\"Drawing Room\",12.0,8.0,10.0,2,2,3,3),\\\n",
    "                  Television(\"LG\",21,Date(2000,12,23),True),\\\n",
    "                  Date(1999,12,23)),\\\n",
    "            Park(100,200))\n",
    "\n",
    "bk1.displayBlock()"
   ]
  },
  {
   "cell_type": "code",
   "execution_count": null,
   "metadata": {},
   "outputs": [],
   "source": []
  }
 ],
 "metadata": {
  "kernelspec": {
   "display_name": "Python 3",
   "language": "python",
   "name": "python3"
  },
  "language_info": {
   "codemirror_mode": {
    "name": "ipython",
    "version": 3
   },
   "file_extension": ".py",
   "mimetype": "text/x-python",
   "name": "python",
   "nbconvert_exporter": "python",
   "pygments_lexer": "ipython3",
   "version": "3.6.5"
  }
 },
 "nbformat": 4,
 "nbformat_minor": 2
}
