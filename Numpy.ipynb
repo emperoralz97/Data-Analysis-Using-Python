{
 "cells": [
  {
   "cell_type": "markdown",
   "metadata": {},
   "source": [
    "## 4/1/2019"
   ]
  },
  {
   "cell_type": "code",
   "execution_count": 1,
   "metadata": {},
   "outputs": [],
   "source": [
    "#Numpy\n",
    "import numpy as np"
   ]
  },
  {
   "cell_type": "code",
   "execution_count": 2,
   "metadata": {},
   "outputs": [
    {
     "name": "stdout",
     "output_type": "stream",
     "text": [
      "[1, 2, 3, 4, 5]\n",
      "[1 2 3 4 5]\n"
     ]
    }
   ],
   "source": [
    "#Creating numpy array using list\n",
    "data1 = [1,2,3,4,5]\n",
    "print(data1)\n",
    "arr1 = np.array(data1) # list to array\n",
    "print(arr1)"
   ]
  },
  {
   "cell_type": "code",
   "execution_count": 3,
   "metadata": {},
   "outputs": [
    {
     "name": "stdout",
     "output_type": "stream",
     "text": [
      "[range(1, 5), range(5, 9)]\n",
      "[[1 2 3 4]\n",
      " [5 6 7 8]]\n",
      "[[1, 2, 3, 4], [5, 6, 7, 8]]\n"
     ]
    }
   ],
   "source": [
    "data2 = [range(1,5),range(5,9)]\n",
    "print(data2)\n",
    "arr2 = np.array(data2) #2d array\n",
    "print(arr2) # display\n",
    "my_list = arr2.tolist() # converting array to list\n",
    "print(my_list) "
   ]
  },
  {
   "cell_type": "code",
   "execution_count": 4,
   "metadata": {},
   "outputs": [
    {
     "name": "stdout",
     "output_type": "stream",
     "text": [
      "[11, 22, 33, 44, 55]\n",
      "[11 22 33 44 55]\n"
     ]
    }
   ],
   "source": [
    "my_list = [11,22,33,44,55]\n",
    "print(my_list)\n",
    "arr3 = np.array(my_list)\n",
    "print(arr3)"
   ]
  },
  {
   "cell_type": "code",
   "execution_count": 7,
   "metadata": {},
   "outputs": [
    {
     "name": "stdout",
     "output_type": "stream",
     "text": [
      "[1 2 3 4 5]\n",
      "[[1 2 3 4]\n",
      " [5 6 7 8]]\n",
      "int32\n",
      "int32\n",
      "1\n",
      "2\n",
      "(5,)\n",
      "(2, 4)\n",
      "5\n",
      "8\n",
      "5\n",
      "2\n"
     ]
    }
   ],
   "source": [
    "#examining the array\n",
    "print(arr1)\n",
    "print(arr2)\n",
    "print(arr1.dtype) # finding datatypes\n",
    "print(arr2.dtype)\n",
    "print(arr1.ndim) # number of dimensions\n",
    "print(arr2.ndim)\n",
    "print(arr1.shape) # [2,4] axis-0 is rows, axis-1 cols  \n",
    "print(arr2.shape) \n",
    "print(arr1.size) # total no. of elements\n",
    "print(arr2.size)\n",
    "print(len(arr1)) # size of first dimension\n",
    "print(len(arr2))"
   ]
  },
  {
   "cell_type": "code",
   "execution_count": 11,
   "metadata": {
    "scrolled": true
   },
   "outputs": [
    {
     "name": "stdout",
     "output_type": "stream",
     "text": [
      "[0. 0. 0. 0. 0. 0. 0. 0. 0. 0.]\n",
      "[[0. 0. 0. 0. 0. 0.]\n",
      " [0. 0. 0. 0. 0. 0.]\n",
      " [0. 0. 0. 0. 0. 0.]]\n",
      "[1. 1. 1. 1. 1. 1. 1. 1. 1. 1.]\n"
     ]
    }
   ],
   "source": [
    "# creating special type of arrays\n",
    "print(np.zeros(10)) # array with 10 floating point(64) zero values\n",
    "print(np.zeros((3,6))) # 2-d array filled with 0s\n",
    "print(np.ones(10)) # array with 10 float64 one values"
   ]
  },
  {
   "cell_type": "code",
   "execution_count": 15,
   "metadata": {},
   "outputs": [
    {
     "name": "stdout",
     "output_type": "stream",
     "text": [
      "[0.   0.25 0.5  0.75 1.  ]\n",
      "[   1.   10.  100. 1000.]\n"
     ]
    }
   ],
   "source": [
    "print(np.linspace(0,1,5)) # 0 to 1(inclusive) with 5 points \n",
    "print(np.logspace(0,3,4)) # 10^0 to 10^3 (inclusive) with 4 points"
   ]
  },
  {
   "cell_type": "code",
   "execution_count": 17,
   "metadata": {},
   "outputs": [
    {
     "name": "stdout",
     "output_type": "stream",
     "text": [
      "[0 1 2 3 4]\n",
      "[0. 1. 2. 3. 4.]\n",
      "float64\n"
     ]
    }
   ],
   "source": [
    "# arange is like range, except it returns an array\n",
    "# (not a list)\n",
    "int_array = np.arange(5)\n",
    "print(int_array)\n",
    "float_array = int_array.astype(float)\n",
    "print(float_array)\n",
    "print(float_array.dtype)"
   ]
  },
  {
   "cell_type": "code",
   "execution_count": 26,
   "metadata": {
    "scrolled": false
   },
   "outputs": [
    {
     "name": "stdout",
     "output_type": "stream",
     "text": [
      "[0. 1. 2. 3. 4. 5. 6. 7. 8. 9.]\n",
      "[[0. 1.]\n",
      " [2. 3.]\n",
      " [4. 5.]\n",
      " [6. 7.]\n",
      " [8. 9.]]\n",
      "[[0. 2. 4. 6. 8.]\n",
      " [1. 3. 5. 7. 9.]]\n",
      "[0. 1. 2. 3. 4. 5. 6. 7. 8. 9.]\n"
     ]
    }
   ],
   "source": [
    "matrix = np.arange(10,dtype=float)\n",
    "print(matrix)\n",
    "matrix = matrix.reshape(5,2)\n",
    "print(matrix)\n",
    "print(matrix.T) # Transpose of nd-array\n",
    "matrix = matrix.reshape(10)\n",
    "print(matrix)"
   ]
  },
  {
   "cell_type": "code",
   "execution_count": 36,
   "metadata": {},
   "outputs": [
    {
     "name": "stdout",
     "output_type": "stream",
     "text": [
      "[[0 1]\n",
      " [2 3]]\n",
      "[[[0 1]]\n",
      "\n",
      " [[2 3]]]\n"
     ]
    }
   ],
   "source": [
    "# adding an axis\n",
    "a = np.array([[0,1],[2,3]])\n",
    "print(a)\n",
    "a_col = a[:,np.newaxis]\n",
    "print(a_col)"
   ]
  },
  {
   "cell_type": "code",
   "execution_count": 38,
   "metadata": {},
   "outputs": [
    {
     "name": "stdout",
     "output_type": "stream",
     "text": [
      "[[0]\n",
      " [1]\n",
      " [2]\n",
      " [3]]\n",
      "[[0]\n",
      " [1]\n",
      " [2]\n",
      " [3]]\n"
     ]
    }
   ],
   "source": [
    "a = np.array([0,1,2,3])\n",
    "a_col=a[:,np.newaxis]\n",
    "print(a_col)\n",
    "a_col=a[:,np.newaxis]\n",
    "print(a_col)"
   ]
  },
  {
   "cell_type": "code",
   "execution_count": 37,
   "metadata": {},
   "outputs": [
    {
     "name": "stdout",
     "output_type": "stream",
     "text": [
      "[1, 2, 3, 4, 5]\n",
      "[1 2 3 4 5]\n",
      "1\n",
      "[[1 2 3 4]\n",
      " [5 6 7 8]]\n",
      "4\n",
      "4\n"
     ]
    }
   ],
   "source": [
    "# stack arrays\n",
    "# stack flat arrays in columns\n",
    "# selection: single item\n",
    "data1 = [1,2,3,4,5]\n",
    "print(data1)\n",
    "arr1 = np.array(data1)\n",
    "print(arr1)\n",
    "print(arr1[0]) # 0th element, slices like a list\n",
    "print(arr2)\n",
    "print(arr2[0,3]) #  data at row no. 0 and col no. 3\n",
    "print(arr2[0][3]) # alternative syntax"
   ]
  },
  {
   "cell_type": "code",
   "execution_count": 42,
   "metadata": {},
   "outputs": [
    {
     "name": "stdout",
     "output_type": "stream",
     "text": [
      "[[1 2 3 4]\n",
      " [5 6 7 8]]\n",
      "[1 2 3 4]\n",
      "[1 5]\n",
      "[[1 2]\n",
      " [5 6]]\n",
      "[[3 4]\n",
      " [7 8]]\n",
      "[[2 3 4]\n",
      " [6 7 8]]\n",
      "[6 7]\n"
     ]
    }
   ],
   "source": [
    "# nd-array slicing\n",
    "print(arr2)        # displaying\n",
    "print(arr2[0,:])   #  full row 0 content\n",
    "print(arr2[:,0])   # full column 0 content\n",
    "print(arr2[:,:2])  # column strictly before index 2\n",
    "print(arr2[:,2:])  # column strictyl after index 2 inclusive\n",
    "print(arr2[:,1:4]) #  columns between 1 (inclusive) and 4(exclusive)\n",
    "print(arr2[1,1:3])"
   ]
  },
  {
   "cell_type": "code",
   "execution_count": 47,
   "metadata": {},
   "outputs": [
    {
     "name": "stdout",
     "output_type": "stream",
     "text": [
      "[0 1 2 3 4 5 6 7 8 9]\n",
      "[5 6 7]\n",
      "[ 0  1  2  3  4 12 12 12  8  9]\n"
     ]
    }
   ],
   "source": [
    "# views and copies\n",
    "arr = np.arange(10)\n",
    "print(arr)\n",
    "print(arr[5:8])\n",
    "arr[5:8] = 12 # array is mutable\n",
    "print (arr)"
   ]
  },
  {
   "cell_type": "code",
   "execution_count": 50,
   "metadata": {},
   "outputs": [
    {
     "name": "stdout",
     "output_type": "stream",
     "text": [
      "[0 1 2 3 4 5 6 7 8 9]\n",
      "[5 6 7]\n",
      "[33 33 33]\n",
      "[ 0  1  2  3  4 33 33 33  8  9]\n"
     ]
    }
   ],
   "source": [
    "arr = np.arange(10)\n",
    "print(arr)\n",
    "arr_view = arr[5:8] # Creating a view of the a array not creating a copy\n",
    "print(arr_view)\n",
    "arr_view[:] = 33 # updating array view not a array\n",
    "print(arr_view)\n",
    "print(arr) # but modifies back arr, arr_view"
   ]
  },
  {
   "cell_type": "code",
   "execution_count": 51,
   "metadata": {},
   "outputs": [
    {
     "name": "stdout",
     "output_type": "stream",
     "text": [
      "[0 1 2 3 4 5 6 7 8 9]\n",
      "[5 6 7]\n",
      "[33 33 33]\n",
      "[0 1 2 3 4 5 6 7 8 9]\n"
     ]
    }
   ],
   "source": [
    "arr = np.arange(10)\n",
    "print(arr)\n",
    "arr_copy = arr[5:8].copy() # Creating a copy of the a array not creating a view\n",
    "print(arr_copy)\n",
    "arr_copy[:] = 33 # updating array view not a array\n",
    "print(arr_copy)\n",
    "print(arr) # but not modifies back arr,only arr_copy"
   ]
  },
  {
   "cell_type": "code",
   "execution_count": 52,
   "metadata": {},
   "outputs": [
    {
     "name": "stdout",
     "output_type": "stream",
     "text": [
      "[0 1 2 3 4 5 6 7 8 9]\n",
      "[6 7 8 9]\n"
     ]
    }
   ],
   "source": [
    "# using boolean arrays\n",
    "print(arr)\n",
    "print(arr[arr>5]) # those values will get selected who will satisfy the condition given\n"
   ]
  },
  {
   "cell_type": "code",
   "execution_count": 57,
   "metadata": {},
   "outputs": [
    {
     "name": "stdout",
     "output_type": "stream",
     "text": [
      "[0 1 2 3 4 5 0 0 0 0]\n",
      "[0 1 2 3 4 5 0 0 0 0]\n",
      "[1 3 5]\n"
     ]
    }
   ],
   "source": [
    "# boolean selection return a view with authorities\n",
    "# the modification of the original array\n",
    "print(arr)\n",
    "arr[arr>5]=0\n",
    "print(arr)\n",
    "print(arr[arr%2==1])"
   ]
  },
  {
   "cell_type": "code",
   "execution_count": 64,
   "metadata": {},
   "outputs": [
    {
     "name": "stdout",
     "output_type": "stream",
     "text": [
      "[ True False False  True]\n"
     ]
    }
   ],
   "source": [
    "names = np.array(['Bob','Joe','Will','Bob'])\n",
    "print(names == 'Bob')"
   ]
  },
  {
   "cell_type": "code",
   "execution_count": 65,
   "metadata": {},
   "outputs": [
    {
     "name": "stdout",
     "output_type": "stream",
     "text": [
      "['Joe' 'Will']\n",
      "['Bob' 'Will' 'Bob']\n",
      "['Bob' 'Joe' 'Will' 'Bob']\n",
      "['Bob' 'Patt' 'Patt' 'Bob']\n"
     ]
    }
   ],
   "source": [
    "print(names[names != 'Bob'])\n",
    "print(names[(names=='Bob')|(names=='Will')])\n",
    "# keywords and, or will not work here for ndarray\n",
    "print(names)\n",
    "names[names != 'Bob']='Patt'\n",
    "print(names)"
   ]
  },
  {
   "cell_type": "code",
   "execution_count": 74,
   "metadata": {},
   "outputs": [
    {
     "name": "stdout",
     "output_type": "stream",
     "text": [
      "['Bob' 'Joe' 'Will' 'Bob']\n",
      "Will\n",
      "['Bob' 'Joe' 'Bob']\n",
      "['Bob' 'Joe' 'Will']\n"
     ]
    }
   ],
   "source": [
    "names = np.array(['Bob','Joe','Will','Bob'])\n",
    "print(names)\n",
    "print(names[2])\n",
    "print(names[names!=names[2]])\n",
    "print(np.unique(names))"
   ]
  },
  {
   "cell_type": "code",
   "execution_count": 81,
   "metadata": {},
   "outputs": [
    {
     "name": "stdout",
     "output_type": "stream",
     "text": [
      "[0 1 2 3 4]\n",
      "[ 0 10 20 30 40]\n",
      "[ 0  1  4  9 16]\n",
      "[0.         1.         1.41421356 1.73205081 2.        ]\n"
     ]
    }
   ],
   "source": [
    "#vectorized opeartions\n",
    "nums=np.arange(5)\n",
    "print(nums)\n",
    "print(nums*10)\n",
    "nums_res=nums**2\n",
    "print(nums_res)\n",
    "nums_res=np.sqrt(nums)\n",
    "print(nums_res)"
   ]
  },
  {
   "cell_type": "code",
   "execution_count": 82,
   "metadata": {},
   "outputs": [
    {
     "name": "stdout",
     "output_type": "stream",
     "text": [
      "[0. 1. 2. 3. 4.]\n",
      "[0. 1. 2. 3. 4.]\n",
      "[False False False False False]\n",
      "[False False False False]\n"
     ]
    }
   ],
   "source": [
    "nums_res=np.ceil(nums)\n",
    "print(nums_res)\n",
    "nums_res=np.floor(nums)\n",
    "print(nums_res)\n",
    "nums_res=np.isnan(nums)\n",
    "print(nums_res)\n",
    "values=np.array([10,20,30,40])\n",
    "print(np.isnan(values))"
   ]
  },
  {
   "cell_type": "code",
   "execution_count": 86,
   "metadata": {},
   "outputs": [
    {
     "name": "stdout",
     "output_type": "stream",
     "text": [
      "[0 1 2 3 4]\n",
      "[ 1  3  5 -1  9]\n",
      "[ 1  1  3  3 15]\n",
      "[ 0 -2  2 -4  4]\n"
     ]
    }
   ],
   "source": [
    "print(nums)\n",
    "print(nums+np.array([1,2,3,-4,5]))\n",
    "print(np.maximum(nums,np.array([1,-2,3,-4,15])))\n",
    "print(np.minimum(nums,np.array([1,-2,3,-4,15])))"
   ]
  },
  {
   "cell_type": "code",
   "execution_count": 90,
   "metadata": {},
   "outputs": [
    {
     "name": "stdout",
     "output_type": "stream",
     "text": [
      "[ 5.44090887e-01  1.84341269e+00  2.80310831e-01 -1.59982073e+00\n",
      " -2.36116377e+00  1.97496987e-01  5.10581741e-01  4.50415746e-01\n",
      " -9.89218853e-04 -7.20159840e-01]\n",
      "[0.15240825 0.22661213 0.23008817 0.26745989 0.92997586 0.20324919\n",
      " 0.22906302 0.69986728 0.71197934 0.05580388]\n",
      "dist= 4.282554665080203\n"
     ]
    }
   ],
   "source": [
    "#calculating euclidean distance b/w 2 vectors\n",
    "v1=np.random.randn(10)   #n=negative\n",
    "v2=np.random.rand(10)\n",
    "dist=np.sqrt(np.sum((v1-v2)**2))\n",
    "print(v1)\n",
    "print(v2)\n",
    "print('dist=',dist)"
   ]
  },
  {
   "cell_type": "code",
   "execution_count": 99,
   "metadata": {},
   "outputs": [
    {
     "name": "stdout",
     "output_type": "stream",
     "text": [
      "[ 1.76405235  0.40015721  0.97873798  2.2408932   1.86755799 -0.97727788\n",
      "  0.95008842 -0.15135721 -0.10321885  0.4105985 ]\n",
      "[0.79172504 0.52889492 0.56804456 0.92559664 0.07103606 0.0871293\n",
      " 0.0202184  0.83261985 0.77815675 0.87001215]\n"
     ]
    }
   ],
   "source": [
    "np.random.seed(0)\n",
    "v1=np.random.randn(10)\n",
    "v2=np.random.rand(10)\n",
    "print(v1)\n",
    "print(v2)"
   ]
  },
  {
   "cell_type": "code",
   "execution_count": 105,
   "metadata": {},
   "outputs": [
    {
     "name": "stdout",
     "output_type": "stream",
     "text": [
      "[0.11037514]\n",
      "[1.96898877 0.41454885 0.58974709]\n",
      "[6.10617551 7.46297969 5.29130383]\n",
      "[ 6.75889815 -8.07803184  9.5291893 ]\n"
     ]
    }
   ],
   "source": [
    "v3=np.random.rand(1)\n",
    "v4=np.random.rand(3)*3        # 0 to 3\n",
    "v5=np.random.rand(3)*3+5      # 5 to 8\n",
    "v6=np.random.rand(3)*20-10    # -10 to 10\n",
    "print(v3)\n",
    "print(v4)\n",
    "print(v5)\n",
    "print(v6)"
   ]
  },
  {
   "cell_type": "code",
   "execution_count": 107,
   "metadata": {},
   "outputs": [
    {
     "name": "stdout",
     "output_type": "stream",
     "text": [
      "[2 3 2 3 3 3 2 1 2 2]\n",
      "[35 94 67 82 46]\n"
     ]
    }
   ],
   "source": [
    "print(np.random.randint(0,4,10))\n",
    "print(np.random.randint(0,100,5))"
   ]
  },
  {
   "cell_type": "code",
   "execution_count": 112,
   "metadata": {},
   "outputs": [
    {
     "name": "stdout",
     "output_type": "stream",
     "text": [
      "[[ 0.12691209  0.40198936]\n",
      " [ 1.8831507  -1.34775906]\n",
      " [-1.270485    0.96939671]\n",
      " [-1.17312341  1.94362119]]\n",
      "0.1917128227836925\n",
      "1.2725037650755138\n",
      "3\n",
      "1.53370258226954\n",
      "[-0.43354561  1.9672482 ]\n",
      "[ 0.52890146  0.53539164 -0.30108829  0.77049778]\n"
     ]
    }
   ],
   "source": [
    "#math and stats\n",
    "rnd=np.random.randn(4,2) #random numbers in 4*2 array\n",
    "print(rnd)\n",
    "print(rnd.mean())\n",
    "print(rnd.std())\n",
    "print(rnd.argmin())    #index of minimum element\n",
    "print(rnd.sum())\n",
    "print(rnd.sum(axis=0))  #sum of each column\n",
    "print(rnd.sum(axis=1))  #sum of each row"
   ]
  },
  {
   "cell_type": "code",
   "execution_count": 115,
   "metadata": {},
   "outputs": [
    {
     "name": "stdout",
     "output_type": "stream",
     "text": [
      "[[ 0.12691209  0.40198936]\n",
      " [ 1.8831507  -1.34775906]\n",
      " [-1.270485    0.96939671]\n",
      " [-1.17312341  1.94362119]]\n",
      "5\n",
      "True\n",
      "False\n"
     ]
    }
   ],
   "source": [
    "#methods for boolean arrays\n",
    "print(rnd)\n",
    "print((rnd>0).sum())  # count of +ve no's\n",
    "print((rnd>0).any())  # check if any \n",
    "print((rnd>0).all())  # check if all"
   ]
  },
  {
   "cell_type": "code",
   "execution_count": 118,
   "metadata": {},
   "outputs": [
    {
     "name": "stdout",
     "output_type": "stream",
     "text": [
      "[[ 0  1  2  3]\n",
      " [ 4  5  6  7]\n",
      " [ 8  9 10 11]\n",
      " [12 13 14 15]\n",
      " [16 17 18 19]\n",
      " [20 21 22 23]\n",
      " [24 25 26 27]\n",
      " [28 29 30 31]]\n",
      "[[ 0  4  8 12 16 20 24 28]\n",
      " [ 1  5  9 13 17 21 25 29]\n",
      " [ 2  6 10 14 18 22 26 30]\n",
      " [ 3  7 11 15 19 23 27 31]]\n",
      "[ 0  1  2  3  4  5  6  7  8  9 10 11 12 13 14 15 16 17 18 19 20 21 22 23\n",
      " 24 25 26 27 28 29 30 31]\n"
     ]
    }
   ],
   "source": [
    "#reshape,transpose,flatten\n",
    "n = np.arange(32).reshape(8,4)\n",
    "print(n)\n",
    "print(n.T)\n",
    "print(n.flatten())"
   ]
  },
  {
   "cell_type": "code",
   "execution_count": 123,
   "metadata": {},
   "outputs": [
    {
     "name": "stdout",
     "output_type": "stream",
     "text": [
      "[[ 0  0  0]\n",
      " [10 10 10]\n",
      " [20 20 20]\n",
      " [30 30 30]]\n",
      "[0 1 2]\n",
      "[[ 0  1  2]\n",
      " [10 11 12]\n",
      " [20 21 22]\n",
      " [30 31 32]]\n"
     ]
    }
   ],
   "source": [
    "#broadcasting\n",
    "a =np.array([[0,0,0],\n",
    "             [10,10,10],\n",
    "             [20,20,20],\n",
    "             [30,30,30]])\n",
    "b=np.array([0,1,2])\n",
    "print(a)\n",
    "print(b)\n",
    "print(a+b)"
   ]
  },
  {
   "cell_type": "code",
   "execution_count": 129,
   "metadata": {},
   "outputs": [
    {
     "name": "stdout",
     "output_type": "stream",
     "text": [
      "[[ 0]\n",
      " [10]\n",
      " [20]\n",
      " [30]]\n",
      "[0 1 2 3]\n",
      "[[ 0  1  2  3]\n",
      " [10 11 12 13]\n",
      " [20 21 22 23]\n",
      " [30 31 32 33]]\n"
     ]
    }
   ],
   "source": [
    "a =np.array([0,10,20,30])\n",
    "a=a.reshape(4,1)\n",
    "b=np.array([0,1,2,3])\n",
    "print(a)\n",
    "print(b)\n",
    "print(a+b)"
   ]
  },
  {
   "cell_type": "code",
   "execution_count": 134,
   "metadata": {},
   "outputs": [
    {
     "name": "stdout",
     "output_type": "stream",
     "text": [
      "[[ 0.39600671 -1.09306151]\n",
      " [-1.49125759  0.4393917 ]\n",
      " [ 0.1666735   0.63503144]\n",
      " [ 2.38314477  0.94447949]]\n",
      "[1 0]\n",
      "[1 0 0 1]\n"
     ]
    }
   ],
   "source": [
    "x=np.random.randn(4,2) #find for each column ,row index of min value \n",
    "print(x)\n",
    "print(x.argmin(axis=0))\n",
    "print(x.argmin(axis=1))"
   ]
  },
  {
   "cell_type": "code",
   "execution_count": null,
   "metadata": {},
   "outputs": [],
   "source": []
  }
 ],
 "metadata": {
  "kernelspec": {
   "display_name": "Python 3",
   "language": "python",
   "name": "python3"
  },
  "language_info": {
   "codemirror_mode": {
    "name": "ipython",
    "version": 3
   },
   "file_extension": ".py",
   "mimetype": "text/x-python",
   "name": "python",
   "nbconvert_exporter": "python",
   "pygments_lexer": "ipython3",
   "version": "3.6.5"
  }
 },
 "nbformat": 4,
 "nbformat_minor": 2
}
